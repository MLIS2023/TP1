{
 "cells": [
  {
   "cell_type": "markdown",
   "id": "1c122e5d",
   "metadata": {},
   "source": [
    "# Problema 3"
   ]
  },
  {
   "cell_type": "markdown",
   "id": "cf9a0387",
   "metadata": {},
   "source": [
    "### Importing libraries"
   ]
  },
  {
   "cell_type": "code",
   "execution_count": 2,
   "id": "26f1929f",
   "metadata": {},
   "outputs": [],
   "source": [
    "import pandas as pd\n",
    "import torch\n",
    "import matplotlib.pyplot as plt\n",
    "import numpy as np"
   ]
  },
  {
   "cell_type": "markdown",
   "id": "d5be61eb",
   "metadata": {},
   "source": [
    "### Loading data with Pandas and extracting requried information to check that everything is place"
   ]
  },
  {
   "cell_type": "code",
   "execution_count": 3,
   "id": "d8d3c6d5",
   "metadata": {},
   "outputs": [
    {
     "data": {
      "text/html": [
       "<div>\n",
       "<style scoped>\n",
       "    .dataframe tbody tr th:only-of-type {\n",
       "        vertical-align: middle;\n",
       "    }\n",
       "\n",
       "    .dataframe tbody tr th {\n",
       "        vertical-align: top;\n",
       "    }\n",
       "\n",
       "    .dataframe thead th {\n",
       "        text-align: right;\n",
       "    }\n",
       "</style>\n",
       "<table border=\"1\" class=\"dataframe\">\n",
       "  <thead>\n",
       "    <tr style=\"text-align: right;\">\n",
       "      <th></th>\n",
       "      <th>P</th>\n",
       "      <th>ETA</th>\n",
       "      <th>nTracks</th>\n",
       "    </tr>\n",
       "  </thead>\n",
       "  <tbody>\n",
       "    <tr>\n",
       "      <th>0</th>\n",
       "      <td>64467.50</td>\n",
       "      <td>3.23065</td>\n",
       "      <td>49</td>\n",
       "    </tr>\n",
       "    <tr>\n",
       "      <th>1</th>\n",
       "      <td>33124.10</td>\n",
       "      <td>3.62432</td>\n",
       "      <td>59</td>\n",
       "    </tr>\n",
       "    <tr>\n",
       "      <th>2</th>\n",
       "      <td>33124.10</td>\n",
       "      <td>3.62432</td>\n",
       "      <td>59</td>\n",
       "    </tr>\n",
       "    <tr>\n",
       "      <th>3</th>\n",
       "      <td>13132.90</td>\n",
       "      <td>2.94369</td>\n",
       "      <td>35</td>\n",
       "    </tr>\n",
       "    <tr>\n",
       "      <th>4</th>\n",
       "      <td>47798.50</td>\n",
       "      <td>2.79574</td>\n",
       "      <td>80</td>\n",
       "    </tr>\n",
       "    <tr>\n",
       "      <th>...</th>\n",
       "      <td>...</td>\n",
       "      <td>...</td>\n",
       "      <td>...</td>\n",
       "    </tr>\n",
       "    <tr>\n",
       "      <th>499997</th>\n",
       "      <td>23307.30</td>\n",
       "      <td>3.18168</td>\n",
       "      <td>36</td>\n",
       "    </tr>\n",
       "    <tr>\n",
       "      <th>499998</th>\n",
       "      <td>8520.34</td>\n",
       "      <td>3.89738</td>\n",
       "      <td>66</td>\n",
       "    </tr>\n",
       "    <tr>\n",
       "      <th>499999</th>\n",
       "      <td>67819.80</td>\n",
       "      <td>4.56377</td>\n",
       "      <td>73</td>\n",
       "    </tr>\n",
       "    <tr>\n",
       "      <th>500000</th>\n",
       "      <td>1500.00</td>\n",
       "      <td>1000.00000</td>\n",
       "      <td>1000</td>\n",
       "    </tr>\n",
       "    <tr>\n",
       "      <th>500001</th>\n",
       "      <td>2000.00</td>\n",
       "      <td>2000.00000</td>\n",
       "      <td>2000</td>\n",
       "    </tr>\n",
       "  </tbody>\n",
       "</table>\n",
       "<p>500002 rows × 3 columns</p>\n",
       "</div>"
      ],
      "text/plain": [
       "               P         ETA  nTracks\n",
       "0       64467.50     3.23065       49\n",
       "1       33124.10     3.62432       59\n",
       "2       33124.10     3.62432       59\n",
       "3       13132.90     2.94369       35\n",
       "4       47798.50     2.79574       80\n",
       "...          ...         ...      ...\n",
       "499997  23307.30     3.18168       36\n",
       "499998   8520.34     3.89738       66\n",
       "499999  67819.80     4.56377       73\n",
       "500000   1500.00  1000.00000     1000\n",
       "500001   2000.00  2000.00000     2000\n",
       "\n",
       "[500002 rows x 3 columns]"
      ]
     },
     "execution_count": 3,
     "metadata": {},
     "output_type": "execute_result"
    }
   ],
   "source": [
    "df = pd.read_csv(\"kaon_-_down_2016_.csv\", sep = \"\\t\")\n",
    "df[[\"P\", \"ETA\", \"nTracks\"]]"
   ]
  },
  {
   "cell_type": "markdown",
   "id": "709ba568",
   "metadata": {},
   "source": [
    "### PCA"
   ]
  },
  {
   "cell_type": "code",
   "execution_count": 112,
   "id": "829a1f33",
   "metadata": {},
   "outputs": [],
   "source": [
    "def PCA(input_data):\n",
    "    \"\"\"\n",
    "    Computes a PCA in a given dataset\n",
    "    - param input_data: Collision detector data in cherenkov ring\n",
    "    - return V: New subspace created using the highest eigenvectors \n",
    "    - return X_prime: Data with dimensions\n",
    "    - return d: Input data eigenvalues\n",
    "    - return w: Input data eigenvector\n",
    "    \"\"\"\n",
    "    \n",
    "    #Computing covariance matrix\n",
    "    cov_matrix = torch.cov(input_data)\n",
    "    \n",
    "    #Computing eigenvectors & eigenvalues for covariance matrix\n",
    "    d, w = np.linalg.eigh(cov_matrix)\n",
    "    d = torch.tensor(d)\n",
    "    w = torch.tensor(w)\n",
    "    \n",
    "    #Sorting eigenvalues in descending order\n",
    "    sort_d, idx = torch.sort(d, descending = True)\n",
    "\n",
    "    #Grabing eigenvectors of the two highest eigenvalues\n",
    "    v1 = w[idx[0]]\n",
    "    v2 = w[idx[1]]\n",
    "    \n",
    "    #Creating subspace V\n",
    "    V = torch.stack((v1,v2), 1)\n",
    "    \n",
    "    #Computing input data mean and sustracting it to the data\n",
    "    mean = torch.mean(input_data, dim = 0)\n",
    "    X_mean_sustracted = input_data - mean\n",
    "    \n",
    "    #Computing projection using V*Vt*u\n",
    "    Vt = torch.transpose(V, dim0 = 1, dim1 = 0)\n",
    "    V_Vt = V.mm(Vt)\n",
    "    Xp_proj = V_Vt.mm(X_mean_sustracted)\n",
    "    \n",
    "    #Computing dimensionality reduction using u' = Vt*u\n",
    "    Vt = torch.transpose(V, dim0 = 1, dim1 = 0)\n",
    "    X_prime = Vt.mm(Xp_proj)\n",
    "    \n",
    "    #Returning subspace V, data with dimensionality reduced,\n",
    "    #eigenvalues and eigenvector\n",
    "    return V, X_prime, d, w"
   ]
  },
  {
   "cell_type": "markdown",
   "id": "2485c25e",
   "metadata": {},
   "source": [
    "### Quantifying information lost"
   ]
  },
  {
   "cell_type": "code",
   "execution_count": 162,
   "id": "8c9f4572",
   "metadata": {},
   "outputs": [],
   "source": [
    "def info_lost(in_data, d, w):\n",
    "    \"\"\"\n",
    "    The eigenvector which corresponds to the smallest eigenvalue\n",
    "    is the informatio that gets lost when the dimensionality is\n",
    "    reduced. The metric for the loss is multiplying the dataset \n",
    "    by the smalles eigenvector and then getting its mean\n",
    "    - param in_data: Collision detector data in cherenkov ring\n",
    "    - param d: Input data eigenvalues\n",
    "    - param w: Input data eigenvector\n",
    "    return: None\n",
    "    \"\"\"\n",
    "    \n",
    "    #Sorting eigenvalues in ascending order, getting the smallest \n",
    "    #multiplying it by the dataset\n",
    "    sort_d, idx = torch.sort(d)\n",
    "    small_v = w[idx[0]].reshape(1,-1)\n",
    "    Loss = small_v.mm(in_data)\n",
    "    mean = torch.mean(Loss)\n",
    "    \n",
    "    #Printing info loss percentage\n",
    "    print(\"Information percentage loss is {} %\".format(round(mean.item()/100, 2)))\n",
    "    #print(round(mean.item(), 2))"
   ]
  },
  {
   "cell_type": "markdown",
   "id": "95cfab07",
   "metadata": {},
   "source": [
    "### Main"
   ]
  },
  {
   "cell_type": "code",
   "execution_count": 163,
   "id": "4480360e",
   "metadata": {},
   "outputs": [
    {
     "name": "stdout",
     "output_type": "stream",
     "text": [
      "57.17\n"
     ]
    }
   ],
   "source": [
    "def main():\n",
    "    df = pd.read_csv(\"kaon_-_down_2016_.csv\", sep = \"\\t\")\n",
    "    in_data = df[[\"P\", \"ETA\", \"nTracks\"]].to_numpy()\n",
    "    model_input = torch.tensor(df[[\"P\", \"ETA\", \"nTracks\"]].values).transpose(0,1)\n",
    "    #print(\"Plotting R3 data\")\n",
    "    #fig = plt.figure()\n",
    "    #ax = plt.axes(projection = \"3d\")\n",
    "    #ax.scatter3D(model_input[0, :], model_input[1, :], model_input[2, :])\n",
    "    #plt.show()   \n",
    "    V, X_prime, d, w = PCA(model_input)\n",
    "    #print(\"Plotting data reduced to R2\")\n",
    "    #plt.scatter(X_prime[0, :], X_prime[1, :])\n",
    "    #plt.show()\n",
    "    info_lost(model_input, d, w)\n",
    "if __name__ == \"__main__\":\n",
    "    main() "
   ]
  }
 ],
 "metadata": {
  "kernelspec": {
   "display_name": "Python [conda env:Aprendizaje_Automatico] *",
   "language": "python",
   "name": "conda-env-Aprendizaje_Automatico-py"
  },
  "language_info": {
   "codemirror_mode": {
    "name": "ipython",
    "version": 3
   },
   "file_extension": ".py",
   "mimetype": "text/x-python",
   "name": "python",
   "nbconvert_exporter": "python",
   "pygments_lexer": "ipython3",
   "version": "3.11.0"
  }
 },
 "nbformat": 4,
 "nbformat_minor": 5
}
