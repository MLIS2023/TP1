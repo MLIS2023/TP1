{
 "cells": [
  {
   "cell_type": "markdown",
   "id": "f52594e6",
   "metadata": {},
   "source": [
    "# Problema 2"
   ]
  },
  {
   "cell_type": "markdown",
   "id": "ce88bea6",
   "metadata": {},
   "source": [
    "### Importing libraries"
   ]
  },
  {
   "cell_type": "code",
   "execution_count": 2,
   "id": "71c1cff3",
   "metadata": {},
   "outputs": [],
   "source": [
    "import torch\n",
    "import matplotlib.pyplot as plt\n",
    "import numpy as np"
   ]
  },
  {
   "cell_type": "markdown",
   "id": "b71947c9",
   "metadata": {},
   "source": [
    "### Creating data"
   ]
  },
  {
   "cell_type": "code",
   "execution_count": 3,
   "id": "eaac4842",
   "metadata": {},
   "outputs": [],
   "source": [
    "def generate_points(points_number, mean, std):\n",
    "    \"\"\"\n",
    "    Given an amount of points, a mean & a standard deviation\n",
    "    generates a tensor with randon 3D points\n",
    "    - param points_number: Amout of required 3D points\n",
    "    - param mean = Mean for Gaussian distribution\n",
    "    - param std = Standard desviation for Gaussian distribution\n",
    "    - return X: Tensor with all 3D points generated\n",
    "    \"\"\"\n",
    "    \n",
    "    #Creating Gaussians values (epsilon)\n",
    "    epsilon = torch.normal(mean, std, size=(1, points_number))\n",
    "    \n",
    "    #Creating random X,Y values\n",
    "    Xrand_Yrand = torch.rand(2, points_number)\n",
    "    \n",
    "    #Computing f(x, y)\n",
    "    f_x_y = 0.2*Xrand_Yrand[0, :] + Xrand_Yrand[1, :] + epsilon\n",
    "    \n",
    "    #Creating X\n",
    "    X = torch.cat((Xrand_Yrand, f_x_y), dim = 0)\n",
    "    \n",
    "    #Plotting points\n",
    "    # Creating figure\n",
    "    fig = plt.figure()\n",
    "    ax = plt.axes(projection = \"3d\")\n",
    "     # Creating plot\n",
    "    ax.scatter3D(X[0, :], X[1, :], X[2, :])\n",
    "    # show plot\n",
    "    plt.show()    \n",
    "    \n",
    "    #Returning data\n",
    "    return X"
   ]
  },
  {
   "cell_type": "markdown",
   "id": "46a0dd31",
   "metadata": {},
   "source": [
    "### Computing covariance matrix"
   ]
  },
  {
   "cell_type": "code",
   "execution_count": 4,
   "id": "c3d83a4e",
   "metadata": {},
   "outputs": [],
   "source": [
    "def cov_matrix(data):\n",
    "    \"\"\"\n",
    "    Computes covariance matrix using Pytorch\n",
    "    - param data: Dataset which will have its\n",
    "    - covariance matrix computed\n",
    "    - return cov_matrix: Covariance matrix of the \n",
    "    given data\n",
    "    \"\"\"\n",
    "    \n",
    "    #Computing covariance matrix\n",
    "    cov_matrix = torch.cov(data)\n",
    "    \n",
    "    #Printing covariance matrix dimensions\n",
    "    print(\"Covariance matrix dimensions are: [{}, {}]\\n\".format(cov_matrix.shape[0], cov_matrix.shape[1]))\n",
    "    \n",
    "    #Returning covariance matrix\n",
    "    return cov_matrix"
   ]
  },
  {
   "cell_type": "markdown",
   "id": "93bb0682",
   "metadata": {},
   "source": [
    "### Computing eigenvectors & eigenvalues"
   ]
  },
  {
   "cell_type": "code",
   "execution_count": 5,
   "id": "1bfa1f52",
   "metadata": {},
   "outputs": [],
   "source": [
    "def eigenvectors_eigenvalues(cov_matrix):\n",
    "    \"\"\"\n",
    "    Computes eigenvalues and eigenvectors using numpy\n",
    "    - param cov_matrix: Dataset covariance matrix\n",
    "    - return v, w: Eigenvalues & eigenvector\n",
    "    \"\"\"\n",
    "    \n",
    "    #Computing eigenvalues and eigenvectors\n",
    "    d, w = np.linalg.eigh(cov_matrix)\n",
    "    \n",
    "    #Parsing into PyTorch tensors\n",
    "    d = torch.tensor(d)\n",
    "    w = torch.tensor(w)\n",
    "    \n",
    "    #Printing eigenvalues\n",
    "    print(\"The eigenvalues are: {}\\n\".format(d))\n",
    "    \n",
    "    #Printing eigenvectors\n",
    "    print(\"The eigenvectors are:\\n\")\n",
    "    print(\"w1: {}\\n\".format(w[0]))\n",
    "    print(\"w2: {}\\n\".format(w[1]))\n",
    "    print(\"w3: {}\\n\".format(w[2]))\n",
    "    \n",
    "    #Returning eigenvalues and eigenvector\n",
    "    return d, w"
   ]
  },
  {
   "cell_type": "markdown",
   "id": "78117329",
   "metadata": {},
   "source": [
    "### Creating new subspace"
   ]
  },
  {
   "cell_type": "code",
   "execution_count": 6,
   "id": "272f0909",
   "metadata": {},
   "outputs": [],
   "source": [
    "def creating_subspace(d, w):\n",
    "    \"\"\"\n",
    "    Sorts the eigenvalues in descending orders to \n",
    "    get its eigenvectors and creates a new subspace\n",
    "    - param d, w: Eigenvalues & eigenvectors\n",
    "    - return V: New subspace created using the two highest\n",
    "    eigenvalues and their respective eigenvectors\n",
    "    \"\"\"\n",
    "     \n",
    "    #Sorting eigenvalues in descending order\n",
    "    sort_d, idx = torch.sort(d, descending = True)\n",
    "\n",
    "    #Grabing eigenvectors of the two highest eigenvalues\n",
    "    v1 = w[idx[0]]\n",
    "    v2 = w[idx[1]]\n",
    "    \n",
    "    #Creating subspace V\n",
    "    V = torch.stack((v1,v2), 1)\n",
    "    \n",
    "    #Printing V\n",
    "    print(\"Subspace V: \\n\")\n",
    "    print(V)\n",
    "    \n",
    "    #Returning V\n",
    "    return V"
   ]
  },
  {
   "cell_type": "markdown",
   "id": "a87171ec",
   "metadata": {},
   "source": [
    "### Checking orthonormality"
   ]
  },
  {
   "cell_type": "code",
   "execution_count": 7,
   "id": "152d3905",
   "metadata": {},
   "outputs": [],
   "source": [
    "def check_orthonormality(V):\n",
    "    \"\"\"\n",
    "    Computes dot product between subspace bases as \n",
    "    well as each vector norm\n",
    "    - param V: New subspace created using the two highest\n",
    "    eigenvalues and their respective eigenvectors\n",
    "    - return: None\n",
    "    \"\"\"\n",
    "    print(\"Checking orthonormality \\n\")\n",
    "    \n",
    "    #Computing dot product\n",
    "    dot = torch.dot(V[:, 0], V[:, 1])\n",
    "\n",
    "    #Printing dot product\n",
    "    print(\"v1 ° v2 = {}\".format(dot))\n",
    "    \n",
    "    #Computing vectors norms\n",
    "    v1_norm = torch.linalg.vector_norm(V[:, 0], ord = 2)\n",
    "    v2_norm = torch.linalg.vector_norm(V[:, 1], ord = 2)\n",
    "    \n",
    "    #Printing L2 norms\n",
    "    print(\"v1 L2 norm = {}\".format(v1_norm))\n",
    "    print(\"v2 L2 norm = {}\".format(v2_norm))"
   ]
  },
  {
   "cell_type": "markdown",
   "id": "db3f39de",
   "metadata": {},
   "source": [
    "### Computing data mean and new matrix with its origin in the mean"
   ]
  },
  {
   "cell_type": "code",
   "execution_count": 17,
   "id": "6dc2ad62",
   "metadata": {},
   "outputs": [],
   "source": [
    "def matrix_mean(X):\n",
    "    \"\"\"\n",
    "    Computes dataset mean and centers it with the mean\n",
    "    as its new origin\n",
    "    - param X: Tensor with all 3D points generated\n",
    "    - return X_mean_sustracted: New dataset centered with\n",
    "    the mean subtracted\n",
    "    \"\"\"\n",
    "    \n",
    "    #Computing mean\n",
    "    mean = torch.mean(X, dim = 0)\n",
    "    \n",
    "    #Subtract the mean from X\n",
    "    X_mean_sustracted = X - mean\n",
    "    \n",
    "    #Printing new dataset\n",
    "    print(\"X - mean: \\n\")\n",
    "    print(X_mean_sustracted)\n",
    "    \n",
    "    #Returning X_mean_sustracted\n",
    "    return X_mean_sustracted"
   ]
  },
  {
   "cell_type": "markdown",
   "id": "5c7a86e8",
   "metadata": {},
   "source": [
    "### Computing projection (as well as L2 norm)"
   ]
  },
  {
   "cell_type": "code",
   "execution_count": 9,
   "id": "2636bb0c",
   "metadata": {},
   "outputs": [],
   "source": [
    "def projection(X_mean, V):\n",
    "    \"\"\"\n",
    "    Computes [V*(Vt*V)^-1*Vt*u] and [V*Vt*u]\n",
    "    - param X_mean: Data to be projected\n",
    "    - param V: New subspace created using the highest\n",
    "    eigenvalues and their respective eigenvectors\n",
    "    - return Xp, simple_Xp: Projected data in V using\n",
    "    both way to compute it\n",
    "    \"\"\"\n",
    "    \n",
    "    #Computing Vt\n",
    "    Vt = torch.transpose(V, dim0 = 1, dim1 = 0)\n",
    "    \n",
    "    #Computing V*(Vt*V)^-1*Vt*u\n",
    "    Vt_V = Vt.mm(V)\n",
    "    Vt_V_pinv = torch.tensor(np.linalg.pinv(Vt_V.numpy()))\n",
    "    V_Vt_V_pinv = V.mm(Vt_V_pinv)\n",
    "    V_Vt_V_pinv_Vt = V_Vt_V_pinv.mm(Vt)\n",
    "    Xp = V_Vt_V_pinv_Vt.mm(X_mean)\n",
    "    \n",
    "    #Computing V*Vt*u\n",
    "    V_Vt = V.mm(Vt)\n",
    "    simple_Xp = V_Vt.mm(X_mean)\n",
    "    \n",
    "    #Computing L2 norm between both projections\n",
    "    dist = L2_norm(Xp, simple_Xp)\n",
    "    print(\"Computing L2 norm between Xp and simple_Xp \\n\")\n",
    "    print(dist)\n",
    "    \n",
    "    #Returig Xp and simple_Xp\n",
    "    return Xp, simple_Xp\n",
    "\n",
    "def L2_norm(data_training, test_observation):\n",
    "    \"\"\"\n",
    "    Computing Euclidean norm between observation\n",
    "    point and samples\n",
    "    - param data_training: Input data\n",
    "    - test_observation: Data observations\n",
    "    - return dist: Euclidian distance between data\n",
    "    \"\"\"    \n",
    "    \n",
    "    #Computing L2 norm\n",
    "    diff_vector = data_training - test_observation\n",
    "    diff_pow = torch.pow(diff_vector, 2)\n",
    "    dist = torch.sqrt(torch.sum(diff_pow, dim=0))\n",
    "    return dist"
   ]
  },
  {
   "cell_type": "markdown",
   "id": "bcb4a8c9",
   "metadata": {},
   "source": [
    "### Plotting 3D points with subspace V"
   ]
  },
  {
   "cell_type": "code",
   "execution_count": 10,
   "id": "a28694fa",
   "metadata": {},
   "outputs": [],
   "source": [
    "def plot_X_V_3D(X, V, centroid):\n",
    "    \"\"\"\n",
    "    Plots a 3D image of the data and the subspace V\n",
    "    param X: Tensor data\n",
    "    param V: New subspace created using the highest\n",
    "    param centroid:\n",
    "    return: None\n",
    "    \"\"\"\n",
    "    \n",
    "    #Plotting X, V with a new origin\n",
    "    fig = plt.figure()\n",
    "    ax = plt.axes(projection = \"3d\")\n",
    "    ax.scatter3D(X[0, :], X[1, :], X[2, :])\n",
    "    ax.quiver(centroid, centroid, centroid, V[0, 0], V[1, 0], V[2, 0], color = 'g')\n",
    "    ax.quiver(centroid, centroid, centroid, V[0, 1], V[1, 1], V[2, 1], color = 'r')\n",
    "    plt.xlim(-2, 2)\n",
    "    plt.ylim(-2, 2)\n",
    "    plt.show()     "
   ]
  },
  {
   "cell_type": "markdown",
   "id": "a0e0b38d",
   "metadata": {},
   "source": [
    "### Dimensionality reduction"
   ]
  },
  {
   "cell_type": "code",
   "execution_count": 11,
   "id": "76b2afd8",
   "metadata": {},
   "outputs": [],
   "source": [
    "def dim_reduction(u, V):\n",
    "    \"\"\"\n",
    "    Reduces dimension from R3 to R2 using u' = Vt*u\n",
    "    param u: Data to which the function is going to\n",
    "    reduce its dimensions\n",
    "    param V: New subspace created using the highest\n",
    "    eigenvalues and their respective eigenvectors\n",
    "    return U_prime: \n",
    "    \"\"\"\n",
    "    \n",
    "    #Transposing eigenvectors\n",
    "    Vt = torch.transpose(V, dim0 = 1, dim1 = 0)\n",
    "\n",
    "    #New data with dimensions reduced\n",
    "    U_prime = Vt.mm(u)\n",
    "    \n",
    "    return U_prime\n",
    "       "
   ]
  },
  {
   "cell_type": "markdown",
   "id": "8533386c",
   "metadata": {},
   "source": [
    "### Main function"
   ]
  },
  {
   "cell_type": "code",
   "execution_count": 18,
   "id": "bdde53a7",
   "metadata": {},
   "outputs": [
    {
     "data": {
      "image/png": "[encoded data removed]",
      "text/plain": [
       "<Figure size 640x480 with 1 Axes>"
      ]
     },
     "metadata": {},
     "output_type": "display_data"
    },
    {
     "name": "stdout",
     "output_type": "stream",
     "text": [
      "Covariance matrix dimensions are: [3, 3]\n",
      "\n",
      "The eigenvalues are: tensor([0.0011, 0.1015, 0.2354])\n",
      "\n",
      "The eigenvectors are:\n",
      "\n",
      "w1: tensor([-0.1133, -0.9820, -0.1513])\n",
      "\n",
      "w2: tensor([-0.7103,  0.1865, -0.6788])\n",
      "\n",
      "w3: tensor([ 0.6947,  0.0305, -0.7186])\n",
      "\n",
      "Subspace V: \n",
      "\n",
      "tensor([[ 0.6947, -0.7103],\n",
      "        [ 0.0305,  0.1865],\n",
      "        [-0.7186, -0.6788]])\n",
      "Checking orthonormality \n",
      "\n",
      "v1 ° v2 = 6.51925802230835e-09\n",
      "v1 L2 norm = 1.0\n",
      "v2 L2 norm = 1.0\n",
      "mean: \n",
      "\n",
      "tensor([0.6702, 0.2876, 0.4081, 0.8940, 0.5097, 0.3981, 0.8945, 0.2434, 0.0238,\n",
      "        0.7806, 0.3825, 0.9549, 0.4466, 0.3320, 0.3090, 0.7973, 0.8439, 0.4305,\n",
      "        0.2904, 0.6058])\n",
      "torch.Size([20])\n",
      "X: \n",
      "\n",
      "tensor([[0.0281, 0.0119, 0.0418, 0.8983, 0.2157, 0.7752, 0.6734, 0.3128, 0.0037,\n",
      "         0.9903, 0.7748, 0.6796, 0.5559, 0.0467, 0.6077, 0.6701, 0.4762, 0.4854,\n",
      "         0.6394, 0.7339],\n",
      "        [0.9623, 0.4296, 0.5516, 0.7923, 0.6369, 0.1480, 0.9844, 0.1599, 0.0244,\n",
      "         0.5799, 0.1143, 0.9631, 0.3397, 0.4719, 0.1342, 0.8227, 0.9957, 0.3426,\n",
      "         0.0466, 0.4518],\n",
      "        [1.0203, 0.4214, 0.6309, 0.9914, 0.6766, 0.2712, 1.0256, 0.2576, 0.0435,\n",
      "         0.7716, 0.2584, 1.2221, 0.4442, 0.4776, 0.1850, 0.8989, 1.0597, 0.4636,\n",
      "         0.1852, 0.6316]])\n",
      "torch.Size([3, 20])\n",
      "X - mean: \n",
      "\n",
      "tensor([[-6.4216e-01, -2.7573e-01, -3.6631e-01,  4.3052e-03, -2.9403e-01,\n",
      "          3.7709e-01, -2.2109e-01,  6.9405e-02, -2.0129e-02,  2.0971e-01,\n",
      "          3.9233e-01, -2.7533e-01,  1.0930e-01, -2.8538e-01,  2.9869e-01,\n",
      "         -1.2713e-01, -3.6762e-01,  5.4873e-02,  3.4901e-01,  1.2811e-01],\n",
      "        [ 2.9211e-01,  1.4198e-01,  1.4352e-01, -1.0174e-01,  1.2719e-01,\n",
      "         -2.5016e-01,  8.9945e-02, -8.3535e-02,  5.0959e-04, -2.0072e-01,\n",
      "         -2.6819e-01,  8.1431e-03, -1.0688e-01,  1.3984e-01, -1.7478e-01,\n",
      "          2.5444e-02,  1.5179e-01, -8.7952e-02, -2.4382e-01, -1.5391e-01],\n",
      "        [ 3.5006e-01,  1.3375e-01,  2.2279e-01,  9.7434e-02,  1.6684e-01,\n",
      "         -1.2693e-01,  1.3115e-01,  1.4130e-02,  1.9620e-02, -8.9866e-03,\n",
      "         -1.2414e-01,  2.6719e-01, -2.4284e-03,  1.4554e-01, -1.2392e-01,\n",
      "          1.0169e-01,  2.1582e-01,  3.3079e-02, -1.0519e-01,  2.5806e-02]])\n",
      "torch.Size([3, 20])\n"
     ]
    }
   ],
   "source": [
    "def main():\n",
    "    points_numer = 20\n",
    "    mean = 0\n",
    "    std = 0.05\n",
    "    centroid = [mean, mean, mean]\n",
    "    X = generate_points(points_numer, mean, std)\n",
    "    Cov_X = cov_matrix(X)\n",
    "    D, W = eigenvectors_eigenvalues(Cov_X)\n",
    "    V = creating_subspace(D, W)\n",
    "    check_orthonormality(V)\n",
    "    X_mean_sustracted = matrix_mean(X)\n",
    "    \"\"\"\n",
    "    Xp, simple_Xp = projection(X_mean_sustracted, V)\n",
    "    plot_X_V_3D(X, V, centroid)\n",
    "    X_prime = dim_reduction(simple_Xp, V)\n",
    "    print(\"Plotting data with dimensions reduced\")\n",
    "    plt.scatter(X_prime[0, :], X_prime[1, :])\n",
    "    plt.show()\n",
    "    \"\"\"\n",
    "if __name__ == \"__main__\":\n",
    "    main()    "
   ]
  }
 ],
 "metadata": {
  "kernelspec": {
   "display_name": "Python [conda env:Aprendizaje_Automatico] *",
   "language": "python",
   "name": "conda-env-Aprendizaje_Automatico-py"
  },
  "language_info": {
   "codemirror_mode": {
    "name": "ipython",
    "version": 3
   },
   "file_extension": ".py",
   "mimetype": "text/x-python",
   "name": "python",
   "nbconvert_exporter": "python",
   "pygments_lexer": "ipython3",
   "version": "3.11.0"
  }
 },
 "nbformat": 4,
 "nbformat_minor": 5
}
