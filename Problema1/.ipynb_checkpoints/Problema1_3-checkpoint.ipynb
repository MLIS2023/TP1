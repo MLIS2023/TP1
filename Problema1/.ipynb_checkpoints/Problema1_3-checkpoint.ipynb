{
 "cells": [
  {
   "cell_type": "markdown",
   "id": "2bd2d481",
   "metadata": {},
   "source": [
    "# Problema 1"
   ]
  },
  {
   "cell_type": "markdown",
   "id": "dd57978b",
   "metadata": {},
   "source": [
    "### Importing libraries"
   ]
  },
  {
   "cell_type": "code",
   "execution_count": 102,
   "id": "d02a0b32",
   "metadata": {},
   "outputs": [],
   "source": [
    "import torch\n",
    "import numpy as np\n",
    "import matplotlib.pyplot as plt\n",
    "import scipy.stats as ss\n",
    "from torch.distributions import normal\n",
    "from torch.distributions import multivariate_normal"
   ]
  },
  {
   "cell_type": "code",
   "execution_count": 106,
   "id": "4b283350",
   "metadata": {},
   "outputs": [],
   "source": [
    "def gen_contour(mean, cov_matrix):\n",
    "    \"\"\"\n",
    "    Generates contour plot from normal data from \n",
    "    a given mean and covariance matrix\n",
    "    - param mean: Desired mean\n",
    "    - cov_matrix: Desired covariance matrix\n",
    "    \"\"\"\n",
    "    \n",
    "    x, y = np.mgrid[-10:10:0.01, -10:10:0.01]\n",
    "    pos = np.dstack((x, y))\n",
    "    rv = ss.multivariate_normal(mean, cov_matrix)\n",
    "    fig = plt.figure()\n",
    "    ax = fig.add_subplot()\n",
    "    ax.contourf(x, y, rv.pdf(pos))"
   ]
  },
  {
   "cell_type": "markdown",
   "id": "b1f3169f",
   "metadata": {},
   "source": [
    "### Generating data"
   ]
  },
  {
   "cell_type": "code",
   "execution_count": 92,
   "id": "bcac37a3",
   "metadata": {},
   "outputs": [],
   "source": [
    "def createData(numberSamplesPerClass = 2, mean1 = [2, 2], mean2 = [26, 26], stds1 = [3, 3], stds2 = [2, 1]):\n",
    "    \"\"\"\n",
    "    Creates the data to be used for training, using a GMM distribution\n",
    "    @param numberSamplesPerClass, the number of samples per class\n",
    "    @param mean1, means for samples from the class 1\n",
    "    @param mean2, means for samples from the class 2\n",
    "    @param stds1, standard deviation for samples, class 1\n",
    "    @param stds2, standard deviation for samples, class 2    \"\"\"\n",
    "    means = torch.zeros(2)\n",
    "    # Ones to concatenate for bias\n",
    "    ones = torch.ones(numberSamplesPerClass, 1)\n",
    "    means[0] = mean1[0]\n",
    "    means[1] = mean1[1]\n",
    "    # Covariance matrix creation with identity\n",
    "    covarianceMatrix = torch.eye(2)\n",
    "    covarianceMatrix[0, 0] = stds1[0]\n",
    "    covarianceMatrix[1, 1] = stds1[1]\n",
    "    samplesClass1 = createDataOneClass(means, covarianceMatrix, numberSamplesPerClass)\n",
    "    means[0] = mean2[0]\n",
    "    means[1] = mean2[1]\n",
    "    covarianceMatrix[0, 0] = stds2[0]\n",
    "    covarianceMatrix[1, 1] = stds2[1]\n",
    "    samplesClass2 = createDataOneClass(means, covarianceMatrix, numberSamplesPerClass)\n",
    "    # Concatenates the ones for the bias\n",
    "    samplesClass1Bias = torch.cat((ones, samplesClass1), 1)\n",
    "    samplesClass2Bias = torch.cat((ones, samplesClass2), 1)\n",
    "    samplesAll = torch.cat((samplesClass1, samplesClass2), 0)\n",
    "    plt.scatter(samplesClass1[:, 0], samplesClass1[:, 1])\n",
    "    plt.scatter(samplesClass2[:, 0], samplesClass2[:, 1], marker = 'x')\n",
    "    plt.show()\n",
    "    #Create samples without bias\n",
    "    samplesAll = torch.cat((samplesClass1, samplesClass2), 0)\n",
    "    \n",
    "    #Create targets\n",
    "    targetsClass1 = torch.ones(numberSamplesPerClass, 1)\n",
    "    targetsClass2 = torch.zeros(numberSamplesPerClass, 1)\n",
    "    targetsAll = torch.cat((targetsClass1, targetsClass2), 0)\n",
    "\n",
    "\n",
    "'''\n",
    "Creates data with gaussian distribution\n",
    "'''\n",
    "def createDataOneClass(means, covarianceMatrix, numberSamples):\n",
    "    # Inits the bi gaussian data generator\n",
    "    multiGaussGenerator = multivariate_normal.MultivariateNormal(means, covarianceMatrix)\n",
    "    # Takes the samples\n",
    "    samples = multiGaussGenerator.sample(torch.Size([numberSamples]))\n",
    "    \n",
    "    return samples"
   ]
  },
  {
   "cell_type": "markdown",
   "id": "bce4cb44",
   "metadata": {},
   "source": [
    "### Main"
   ]
  },
  {
   "cell_type": "code",
   "execution_count": 107,
   "id": "73f581d4",
   "metadata": {},
   "outputs": [
    {
     "ename": "NameError",
     "evalue": "name 'scipy' is not defined",
     "output_type": "error",
     "traceback": [
      "\u001b[0;31m---------------------------------------------------------------------------\u001b[0m",
      "\u001b[0;31mNameError\u001b[0m                                 Traceback (most recent call last)",
      "Cell \u001b[0;32mIn[107], line 10\u001b[0m\n\u001b[1;32m      8\u001b[0m     createData(numberSamplesPerClass \u001b[38;5;241m=\u001b[39m \u001b[38;5;241m500\u001b[39m, mean1 \u001b[38;5;241m=\u001b[39m [\u001b[38;5;241m0\u001b[39m, \u001b[38;5;241m0\u001b[39m], mean2 \u001b[38;5;241m=\u001b[39m [\u001b[38;5;241m10\u001b[39m, \u001b[38;5;241m10\u001b[39m], stds1 \u001b[38;5;241m=\u001b[39m [\u001b[38;5;241m5\u001b[39m, \u001b[38;5;241m2\u001b[39m], stds2 \u001b[38;5;241m=\u001b[39m [\u001b[38;5;241m10\u001b[39m, \u001b[38;5;241m1\u001b[39m])    \n\u001b[1;32m      9\u001b[0m \u001b[38;5;28;01mif\u001b[39;00m \u001b[38;5;18m__name__\u001b[39m \u001b[38;5;241m==\u001b[39m \u001b[38;5;124m\"\u001b[39m\u001b[38;5;124m__main__\u001b[39m\u001b[38;5;124m\"\u001b[39m:\n\u001b[0;32m---> 10\u001b[0m     \u001b[43mmain\u001b[49m\u001b[43m(\u001b[49m\u001b[43m)\u001b[49m  \n",
      "Cell \u001b[0;32mIn[107], line 2\u001b[0m, in \u001b[0;36mmain\u001b[0;34m()\u001b[0m\n\u001b[1;32m      1\u001b[0m \u001b[38;5;28;01mdef\u001b[39;00m \u001b[38;5;21mmain\u001b[39m():\n\u001b[0;32m----> 2\u001b[0m     \u001b[43mgen_contour\u001b[49m\u001b[43m(\u001b[49m\u001b[43m[\u001b[49m\u001b[38;5;241;43m20\u001b[39;49m\u001b[43m,\u001b[49m\u001b[43m \u001b[49m\u001b[38;5;241;43m30\u001b[39;49m\u001b[43m]\u001b[49m\u001b[43m,\u001b[49m\u001b[43m \u001b[49m\u001b[43m[\u001b[49m\u001b[43m[\u001b[49m\u001b[38;5;241;43m2\u001b[39;49m\u001b[43m,\u001b[49m\u001b[43m \u001b[49m\u001b[38;5;241;43m0\u001b[39;49m\u001b[43m]\u001b[49m\u001b[43m,\u001b[49m\u001b[43m \u001b[49m\u001b[43m[\u001b[49m\u001b[38;5;241;43m0\u001b[39;49m\u001b[43m,\u001b[49m\u001b[43m \u001b[49m\u001b[38;5;241;43m10\u001b[39;49m\u001b[43m]\u001b[49m\u001b[43m]\u001b[49m\u001b[43m)\u001b[49m\n\u001b[1;32m      3\u001b[0m     \u001b[38;5;66;03m#gen_contour([30, 20], [[10, 0], [0, 2]])\u001b[39;00m\n\u001b[1;32m      4\u001b[0m     \u001b[38;5;66;03m#gen_contour([15, 20], [[10, -1.5], [-1.5, 2]])\u001b[39;00m\n\u001b[1;32m      5\u001b[0m     \u001b[38;5;66;03m#These cannot be generated\u001b[39;00m\n\u001b[1;32m      6\u001b[0m     \u001b[38;5;66;03m#gen_contour([20, 15], [[10, 20], [20, 2]])\u001b[39;00m\n\u001b[1;32m      7\u001b[0m     \u001b[38;5;66;03m#gen_contour([20, 15], [[10, 20], [25, 2]])\u001b[39;00m\n\u001b[1;32m      8\u001b[0m     createData(numberSamplesPerClass \u001b[38;5;241m=\u001b[39m \u001b[38;5;241m500\u001b[39m, mean1 \u001b[38;5;241m=\u001b[39m [\u001b[38;5;241m0\u001b[39m, \u001b[38;5;241m0\u001b[39m], mean2 \u001b[38;5;241m=\u001b[39m [\u001b[38;5;241m10\u001b[39m, \u001b[38;5;241m10\u001b[39m], stds1 \u001b[38;5;241m=\u001b[39m [\u001b[38;5;241m5\u001b[39m, \u001b[38;5;241m2\u001b[39m], stds2 \u001b[38;5;241m=\u001b[39m [\u001b[38;5;241m10\u001b[39m, \u001b[38;5;241m1\u001b[39m])\n",
      "Cell \u001b[0;32mIn[106], line 11\u001b[0m, in \u001b[0;36mgen_contour\u001b[0;34m(mean, cov_matrix)\u001b[0m\n\u001b[1;32m      9\u001b[0m x, y \u001b[38;5;241m=\u001b[39m np\u001b[38;5;241m.\u001b[39mmgrid[\u001b[38;5;241m-\u001b[39m\u001b[38;5;241m10\u001b[39m:\u001b[38;5;241m10\u001b[39m:\u001b[38;5;241m0.01\u001b[39m, \u001b[38;5;241m-\u001b[39m\u001b[38;5;241m10\u001b[39m:\u001b[38;5;241m10\u001b[39m:\u001b[38;5;241m0.01\u001b[39m]\n\u001b[1;32m     10\u001b[0m pos \u001b[38;5;241m=\u001b[39m np\u001b[38;5;241m.\u001b[39mdstack((x, y))\n\u001b[0;32m---> 11\u001b[0m rv \u001b[38;5;241m=\u001b[39m \u001b[43mscipy\u001b[49m\u001b[38;5;241m.\u001b[39mstats\u001b[38;5;241m.\u001b[39mmultivariate_normal(mean, cov_matrix)\n\u001b[1;32m     12\u001b[0m fig \u001b[38;5;241m=\u001b[39m plt\u001b[38;5;241m.\u001b[39mfigure()\n\u001b[1;32m     13\u001b[0m ax \u001b[38;5;241m=\u001b[39m fig\u001b[38;5;241m.\u001b[39madd_subplot()\n",
      "\u001b[0;31mNameError\u001b[0m: name 'scipy' is not defined"
     ]
    }
   ],
   "source": [
    "def main():\n",
    "    gen_contour([20, 30], [[2, 0], [0, 10]])\n",
    "    #gen_contour([30, 20], [[10, 0], [0, 2]])\n",
    "    #gen_contour([15, 20], [[10, -1.5], [-1.5, 2]])\n",
    "    #These cannot be generated\n",
    "    #gen_contour([20, 15], [[10, 20], [20, 2]])\n",
    "    #gen_contour([20, 15], [[10, 20], [25, 2]])\n",
    "    createData(numberSamplesPerClass = 500, mean1 = [0, 0], mean2 = [10, 10], stds1 = [5, 2], stds2 = [10, 1])    \n",
    "if __name__ == \"__main__\":\n",
    "    main()  "
   ]
  }
 ],
 "metadata": {
  "kernelspec": {
   "display_name": "Python [conda env:Aprendizaje_Automatico] *",
   "language": "python",
   "name": "conda-env-Aprendizaje_Automatico-py"
  },
  "language_info": {
   "codemirror_mode": {
    "name": "ipython",
    "version": 3
   },
   "file_extension": ".py",
   "mimetype": "text/x-python",
   "name": "python",
   "nbconvert_exporter": "python",
   "pygments_lexer": "ipython3",
   "version": "3.11.0"
  }
 },
 "nbformat": 4,
 "nbformat_minor": 5
}
