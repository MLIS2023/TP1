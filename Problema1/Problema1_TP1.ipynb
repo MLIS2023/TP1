{
 "cells": [
  {
   "cell_type": "markdown",
   "id": "2bd2d481",
   "metadata": {},
   "source": [
    "# Problema 1"
   ]
  },
  {
   "cell_type": "code",
   "execution_count": null,
   "id": "1b1d3c50",
   "metadata": {},
   "outputs": [],
   "source": [
    "import torch\n",
    "import numpy as np\n",
    "import matplotlib.pyplot as plt\n",
    "from mpl_toolkits.mplot3d import Axes3D\n",
    "torch.pi = torch.tensor(np.pi)\n",
    "\n",
    "def evaluate_gaussian_2d(mu_array, Sigma, x_array):\n",
    "    \"\"\"Calcula la función Gaussiana multi-variable.\n",
    "\n",
    "    Args:\n",
    "        x (torch.Tensor): Tensor de tamaño (N, 2) que representa un conjunto de N puntos en R^2.\n",
    "        mu (torch.Tensor): Tensor de tamaño (2,) que representa el vector de medias de la Gaussiana.\n",
    "        sigma (torch.Tensor): Tensor de tamaño (2, 2) que representa la matriz de covarianza de la Gaussiana.\n",
    "\n",
    "    Returns:\n",
    "        torch.Tensor: Tensor de tamaño (N,) que representa los valores de la función Gaussiana evaluados en cada punto de x.\n",
    "    \"\"\"\n",
    "    num_dimensions = mu_array.shape[0]\n",
    "    print(\"num dimensions \", num_dimensions)\n",
    "    #determinant_Sigma = torch.det(Sigma)\n",
    "    #normalization factor\n",
    "    norm_factor =  1 / torch.sqrt((2 * torch.pi)** num_dimensions)\n",
    "    #cuadratic form exponent\n",
    "    cuadratic_form = (x_array - mu_array).transpose(0, 1).mm(Sigma.inverse()).mm(x_array - mu_array)\n",
    "    #final value\n",
    "    gauss_result = norm_factor * torch.exp(-0.5*cuadratic_form)\n",
    "    return gauss_result\n",
    "\n",
    "# Crea una cuadrícula de 100x100 puntos en R^2\n",
    "x = torch.linspace(0, 40, 100, dtype=torch.float32)\n",
    "y = torch.linspace(0, 50, 100, dtype=torch.float32)\n",
    "X, Y = torch.meshgrid(x, y)\n",
    "X_tensor = torch.stack([X.flatten(), Y.flatten()], axis=1)\n",
    "\n",
    "\n",
    "# Define los parámetros de la función Gaussiana\n",
    "mu = torch.tensor([20, 30], dtype=torch.float32)\n",
    "sigma = torch.tensor([[2, 0], [0, 10]], dtype=torch.float32)\n",
    "\n",
    "# Evalúa la función Gaussiana en cada punto de la cuadrícula\n",
    "Z_tensor = evaluate_gaussian_2d(mu, sigma, X_tensor)\n",
    "\n",
    "# Convierte el tensor de PyTorch en una matriz de NumPy de tamaño (100, 100)\n",
    "Z = Z_tensor.reshape(100, 100).detach().numpy()\n",
    "\n",
    "# Grafica la superficie de la función Gaussiana\n",
    "fig = plt.figure()\n",
    "ax = fig.gca(projection='3d')\n",
    "ax.plot_surface(X, Y, Z, cmap='viridis', edgecolor='none')\n",
    "ax.set_xlabel('x1')\n",
    "ax.set_ylabel('x2')\n",
    "ax.set_zlabel('f(x)')\n",
    "plt.show()\n",
    "\n",
    "# Grafica las curvas de nivel de la función Gaussiana\n",
    "fig = plt.figure()\n",
    "plt.contour(X, Y, Z, cmap='viridis')\n",
    "plt.xlabel('x1')\n",
    "plt.ylabel('x2')\n",
    "plt.show()"
   ]
  }
 ],
 "metadata": {
  "kernelspec": {
   "display_name": "Python [conda env:Aprendizaje_Automatico] *",
   "language": "python",
   "name": "conda-env-Aprendizaje_Automatico-py"
  },
  "language_info": {
   "codemirror_mode": {
    "name": "ipython",
    "version": 3
   },
   "file_extension": ".py",
   "mimetype": "text/x-python",
   "name": "python",
   "nbconvert_exporter": "python",
   "pygments_lexer": "ipython3",
   "version": "3.11.0"
  }
 },
 "nbformat": 4,
 "nbformat_minor": 5
}
