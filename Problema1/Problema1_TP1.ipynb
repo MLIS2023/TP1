{
 "cells": [
  {
   "cell_type": "markdown",
   "id": "2bd2d481",
   "metadata": {},
   "source": [
    "# Problema 1"
   ]
  },
  {
   "cell_type": "code",
   "execution_count": 11,
   "id": "1b1d3c50",
   "metadata": {},
   "outputs": [
    {
     "name": "stdout",
     "output_type": "stream",
     "text": [
      "num dimensions  2\n"
     ]
    },
    {
     "ename": "RuntimeError",
     "evalue": "mat1 and mat2 shapes cannot be multiplied (2x10000 and 2x2)",
     "output_type": "error",
     "traceback": [
      "\u001b[0;31m---------------------------------------------------------------------------\u001b[0m",
      "\u001b[0;31mRuntimeError\u001b[0m                              Traceback (most recent call last)",
      "Cell \u001b[0;32mIn[11], line 42\u001b[0m\n\u001b[1;32m     39\u001b[0m sigma \u001b[38;5;241m=\u001b[39m torch\u001b[38;5;241m.\u001b[39mtensor([[\u001b[38;5;241m2\u001b[39m, \u001b[38;5;241m0\u001b[39m], [\u001b[38;5;241m0\u001b[39m, \u001b[38;5;241m10\u001b[39m]], dtype\u001b[38;5;241m=\u001b[39mtorch\u001b[38;5;241m.\u001b[39mfloat32)\n\u001b[1;32m     41\u001b[0m \u001b[38;5;66;03m# Evalúa la función Gaussiana en cada punto de la cuadrícula\u001b[39;00m\n\u001b[0;32m---> 42\u001b[0m Z_tensor \u001b[38;5;241m=\u001b[39m \u001b[43mevaluate_gaussian_2d\u001b[49m\u001b[43m(\u001b[49m\u001b[43mmu\u001b[49m\u001b[43m,\u001b[49m\u001b[43m \u001b[49m\u001b[43msigma\u001b[49m\u001b[43m,\u001b[49m\u001b[43m \u001b[49m\u001b[43mX_tensor\u001b[49m\u001b[43m)\u001b[49m\n\u001b[1;32m     44\u001b[0m \u001b[38;5;66;03m# Convierte el tensor de PyTorch en una matriz de NumPy de tamaño (100, 100)\u001b[39;00m\n\u001b[1;32m     45\u001b[0m Z \u001b[38;5;241m=\u001b[39m Z_tensor\u001b[38;5;241m.\u001b[39mreshape(\u001b[38;5;241m100\u001b[39m, \u001b[38;5;241m100\u001b[39m)\u001b[38;5;241m.\u001b[39mdetach()\u001b[38;5;241m.\u001b[39mnumpy()\n",
      "Cell \u001b[0;32mIn[11], line 25\u001b[0m, in \u001b[0;36mevaluate_gaussian_2d\u001b[0;34m(mu_array, Sigma, x_array)\u001b[0m\n\u001b[1;32m     23\u001b[0m norm_factor \u001b[38;5;241m=\u001b[39m  \u001b[38;5;241m1\u001b[39m \u001b[38;5;241m/\u001b[39m torch\u001b[38;5;241m.\u001b[39msqrt((\u001b[38;5;241m2\u001b[39m \u001b[38;5;241m*\u001b[39m torch\u001b[38;5;241m.\u001b[39mpi)\u001b[38;5;241m*\u001b[39m\u001b[38;5;241m*\u001b[39m num_dimensions)\n\u001b[1;32m     24\u001b[0m \u001b[38;5;66;03m#cuadratic form exponent\u001b[39;00m\n\u001b[0;32m---> 25\u001b[0m cuadratic_form \u001b[38;5;241m=\u001b[39m \u001b[43m(\u001b[49m\u001b[43mx_array\u001b[49m\u001b[43m \u001b[49m\u001b[38;5;241;43m-\u001b[39;49m\u001b[43m \u001b[49m\u001b[43mmu_array\u001b[49m\u001b[43m)\u001b[49m\u001b[38;5;241;43m.\u001b[39;49m\u001b[43mtranspose\u001b[49m\u001b[43m(\u001b[49m\u001b[38;5;241;43m0\u001b[39;49m\u001b[43m,\u001b[49m\u001b[43m \u001b[49m\u001b[38;5;241;43m1\u001b[39;49m\u001b[43m)\u001b[49m\u001b[38;5;241;43m.\u001b[39;49m\u001b[43mmm\u001b[49m\u001b[43m(\u001b[49m\u001b[43mSigma\u001b[49m\u001b[38;5;241;43m.\u001b[39;49m\u001b[43minverse\u001b[49m\u001b[43m(\u001b[49m\u001b[43m)\u001b[49m\u001b[43m)\u001b[49m\u001b[38;5;241m.\u001b[39mmm(x_array \u001b[38;5;241m-\u001b[39m mu_array)\n\u001b[1;32m     26\u001b[0m \u001b[38;5;66;03m#final value\u001b[39;00m\n\u001b[1;32m     27\u001b[0m gauss_result \u001b[38;5;241m=\u001b[39m norm_factor \u001b[38;5;241m*\u001b[39m torch\u001b[38;5;241m.\u001b[39mexp(\u001b[38;5;241m-\u001b[39m\u001b[38;5;241m0.5\u001b[39m\u001b[38;5;241m*\u001b[39mcuadratic_form)\n",
      "\u001b[0;31mRuntimeError\u001b[0m: mat1 and mat2 shapes cannot be multiplied (2x10000 and 2x2)"
     ]
    }
   ],
   "source": [
    "import torch\n",
    "import numpy as np\n",
    "import matplotlib.pyplot as plt\n",
    "from mpl_toolkits.mplot3d import Axes3D\n",
    "torch.pi = torch.tensor(np.pi)\n",
    "from torch.distributions import multivariate_normal\n",
    "\n",
    "def evaluate_gaussian_2d(mu_array, Sigma, x_array):\n",
    "    \"\"\"Calcula la función Gaussiana multi-variable.\n",
    "\n",
    "    Args:\n",
    "        x (torch.Tensor): Tensor de tamaño (N, 2) que representa un conjunto de N puntos en R^2.\n",
    "        mu (torch.Tensor): Tensor de tamaño (2,) que representa el vector de medias de la Gaussiana.\n",
    "        sigma (torch.Tensor): Tensor de tamaño (2, 2) que representa la matriz de covarianza de la Gaussiana.\n",
    "\n",
    "    Returns:\n",
    "        torch.Tensor: Tensor de tamaño (N,) que representa los valores de la función Gaussiana evaluados en cada punto de x.\n",
    "    \"\"\"\n",
    "    num_dimensions = mu_array.shape[0]\n",
    "    print(\"num dimensions \", num_dimensions)\n",
    "    #determinant_Sigma = torch.det(Sigma)\n",
    "    #normalization factor\n",
    "    norm_factor =  1 / torch.sqrt((2 * torch.pi)** num_dimensions)\n",
    "    #cuadratic form exponent\n",
    "    cuadratic_form = (x_array - mu_array).transpose(0, 1).mm(Sigma.inverse()).mm(x_array - mu_array)\n",
    "    #final value\n",
    "    gauss_result = norm_factor * torch.exp(-0.5*cuadratic_form)\n",
    "    return gauss_result\n",
    "\n",
    "# Crea una cuadrícula de 100x100 puntos en R^2\n",
    "x = torch.linspace(0, 40, 100, dtype=torch.float32)\n",
    "y = torch.linspace(0, 50, 100, dtype=torch.float32)\n",
    "X, Y = torch.meshgrid(x, y)\n",
    "X_tensor = torch.stack([X.flatten(), Y.flatten()], axis=1)\n",
    "\n",
    "\n",
    "# Define los parámetros de la función Gaussiana\n",
    "mu = torch.tensor([20, 30], dtype=torch.float32)\n",
    "sigma = torch.tensor([[2, 0], [0, 10]], dtype=torch.float32)\n",
    "\n",
    "# Evalúa la función Gaussiana en cada punto de la cuadrícula\n",
    "Z_tensor = evaluate_gaussian_2d(mu, sigma, X_tensor)\n",
    "\n",
    "# Convierte el tensor de PyTorch en una matriz de NumPy de tamaño (100, 100)\n",
    "Z = Z_tensor.reshape(100, 100).detach().numpy()\n",
    "\n",
    "# Grafica la superficie de la función Gaussiana\n",
    "fig = plt.figure()\n",
    "ax = fig.gca(projection='3d')\n",
    "ax.plot_surface(X, Y, Z, cmap='viridis', edgecolor='none')\n",
    "ax.set_xlabel('x1')\n",
    "ax.set_ylabel('x2')\n",
    "ax.set_zlabel('f(x)')\n",
    "plt.show()\n",
    "\n",
    "# Grafica las curvas de nivel de la función Gaussiana\n",
    "fig = plt.figure()\n",
    "plt.contour(X, Y, Z, cmap='viridis')\n",
    "plt.xlabel('x1')\n",
    "plt.ylabel('x2')\n",
    "plt.show()"
   ]
  },
  {
   "cell_type": "markdown",
   "id": "7d3ea3ba",
   "metadata": {},
   "source": [
    "### Pregunta 3"
   ]
  },
  {
   "cell_type": "code",
   "execution_count": 27,
   "id": "9b5b0b83",
   "metadata": {},
   "outputs": [],
   "source": [
    "def createData(numberSamplesPerClass = 2, mean1 = [2, 2], mean2 = [26, 26], cov_matrix = torch.tensor([[1, 0], [0, 1]])):\n",
    "    \"\"\"\n",
    "    Creates the data to be used for training, using a GMM distribution\n",
    "    @param numberSamplesPerClass, the number of samples per class\n",
    "    @param mean1, means for samples from the class 1\n",
    "    @param mean2, means for samples from the class 2\n",
    "    @param stds1, standard deviation for samples, class 1\n",
    "    @param stds2, standard deviation for samples, class 2    \"\"\"\n",
    "    means = torch.zeros(2)\n",
    "    # Ones to concatenate for bias\n",
    "    ones = torch.ones(numberSamplesPerClass, 1)\n",
    "    means[0] = mean1[0]\n",
    "    means[1] = mean1[1]\n",
    "    # Covariance matrix creation with identity\n",
    "    covarianceMatrix = torch.eye(2)\n",
    "    covarianceMatrix[0, 0] = cov_matrix[0, 0]\n",
    "    covarianceMatrix[0, 1] = cov_matrix[0, 1]\n",
    "    covarianceMatrix[1, 0] = cov_matrix[1, 0]\n",
    "    covarianceMatrix[1, 1] = cov_matrix[1, 1]\n",
    "    samplesClass1 = createDataOneClass(means, covarianceMatrix, numberSamplesPerClass)\n",
    "    means[0] = mean2[0]\n",
    "    means[1] = mean2[1]\n",
    "    samplesClass2 = createDataOneClass(means, covarianceMatrix, numberSamplesPerClass)\n",
    "    # Concatenates the ones for the bias\n",
    "    samplesClass1Bias = torch.cat((ones, samplesClass1), 1)\n",
    "    samplesClass2Bias = torch.cat((ones, samplesClass2), 1)\n",
    "    samplesAll = torch.cat((samplesClass1, samplesClass2), 0)\n",
    "    plt.scatter(samplesClass1[:, 0], samplesClass1[:, 1])\n",
    "    #plt.scatter(samplesClass2[:, 0], samplesClass2[:, 1], marker = 'x')\n",
    "    plt.show()\n",
    "    #Create samples without bias\n",
    "    samplesAll = torch.cat((samplesClass1, samplesClass2), 0)\n",
    "    \n",
    "    #Create targets\n",
    "    targetsClass1 = torch.ones(numberSamplesPerClass, 1)\n",
    "    targetsClass2 = torch.zeros(numberSamplesPerClass, 1)\n",
    "    targetsAll = torch.cat((targetsClass1, targetsClass2), 0)\n",
    "    \n",
    "    return (targetsAll, samplesAll)\n",
    "\n",
    "\n",
    "'''\n",
    "Creates data with gaussian distribution\n",
    "'''\n",
    "def createDataOneClass(means, covarianceMatrix, numberSamples):\n",
    "    # Inits the bi gaussian data generator\n",
    "    multiGaussGenerator = multivariate_normal.MultivariateNormal(means, covarianceMatrix)\n",
    "    # Takes the samples\n",
    "    samples = multiGaussGenerator.sample(torch.Size([numberSamples]))\n",
    "    \n",
    "    return samples"
   ]
  },
  {
   "cell_type": "code",
   "execution_count": 26,
   "id": "b5cd9837",
   "metadata": {},
   "outputs": [],
   "source": [
    "(TargetsAll, SamplesAll) = createData(numberSamplesPerClass = 10000, mean1 = [12,12], mean2 = [20, 20], stds1 = [3, 3], stds2 = [2, 2])   "
   ]
  }
 ],
 "metadata": {
  "kernelspec": {
   "display_name": "Python [conda env:Aprendizaje_Automatico] *",
   "language": "python",
   "name": "conda-env-Aprendizaje_Automatico-py"
  },
  "language_info": {
   "codemirror_mode": {
    "name": "ipython",
    "version": 3
   },
   "file_extension": ".py",
   "mimetype": "text/x-python",
   "name": "python",
   "nbconvert_exporter": "python",
   "pygments_lexer": "ipython3",
   "version": "3.11.0"
  }
 },
 "nbformat": 4,
 "nbformat_minor": 5
}
