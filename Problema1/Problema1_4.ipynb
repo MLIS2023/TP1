{
 "cells": [
  {
   "cell_type": "code",
   "execution_count": 3,
   "metadata": {},
   "outputs": [],
   "source": [
    "import torch\n",
    "import numpy as np\n",
    "#def cov(m, y=None): : La definición de la función \"cov\" que toma una matriz \"m\" como argumento y una matriz opcional \"y\".\n",
    "def calculate_cov_matrix(m, y=None):\n",
    "    #if y is not None: : Si se proporciona una matriz \"y\", la función la concatena con la matriz \"m\" utilizando la función \"torch.cat\".\n",
    "    if y is not None:\n",
    "        m = torch.cat((m, y), dim=0)\n",
    "    #m_exp = torch.mean(m, dim=1) : La función \"torch.mean\" calcula la media de los elementos de la matriz \"m\" a lo largo de la dimensión 1.\n",
    "    m_exp = torch.mean(m, dim=1)\n",
    "    #x = m - m_exp[:, None] : La función \"m_exp[:, None]\" agrega una dimensión a la matriz \"m_exp\" para que pueda restarse de la matriz \"m\".\n",
    "    x = m - m_exp[:, None]\n",
    "    #x = m - m_exp[:, None] : La variable \"x\" se calcula restando la media de \"m\" (calculada en el paso anterior) de cada columna de \"m\". \n",
    "    # La notación [:, None] se utiliza para agregar una dimensión adicional a \"m_exp\" para que pueda ser restada de \"m\".\n",
    "    cov = 1 / (x.size(1) - 1) * x.mm(x.t())\n",
    "    #cov = 1 / (x.size(1) - 1) * x.mm(x.t()) : Se utiliza la fórmula estándar de la matriz de covarianza para calcular la matriz de covarianza de \n",
    "    # la matriz de entrada \"m\" (o \"m\" concatenada con \"y\"). Primero se calcula la matriz de productos cruzados \"x.mm(x.t())\" y \n",
    "    # luego se divide por \"x.size(1) - 1\" para obtener la matriz de covarianza.\n",
    "    return cov"
   ]
  },
  {
   "attachments": {},
   "cell_type": "markdown",
   "metadata": {},
   "source": [
    "### Test data"
   ]
  },
  {
   "cell_type": "code",
   "execution_count": 4,
   "metadata": {},
   "outputs": [
    {
     "name": "stdout",
     "output_type": "stream",
     "text": [
      "cov tensor([[ 6.6667, 13.3333],\n",
      "        [13.3333, 26.6667]])\n",
      "Cov tensor tensor([[ 6.6667, 13.3333],\n",
      "        [13.3333, 26.6667]])\n"
     ]
    }
   ],
   "source": [
    "x = torch.tensor([[10.0, 12, 14, 16], [20.0, 24, 28, 32]])\n",
    "print(\"cov\", cov(x))\n",
    "print(\"Cov tensor\", torch.cov(x))"
   ]
  }
 ],
 "metadata": {
  "kernelspec": {
   "display_name": "Python 3",
   "language": "python",
   "name": "python3"
  },
  "language_info": {
   "codemirror_mode": {
    "name": "ipython",
    "version": 3
   },
   "file_extension": ".py",
   "mimetype": "text/x-python",
   "name": "python",
   "nbconvert_exporter": "python",
   "pygments_lexer": "ipython3",
   "version": "3.10.10"
  },
  "orig_nbformat": 4
 },
 "nbformat": 4,
 "nbformat_minor": 2
}
