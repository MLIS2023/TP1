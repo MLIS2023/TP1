{
 "cells": [
  {
   "cell_type": "markdown",
   "id": "f52594e6",
   "metadata": {},
   "source": [
    "# Problema 2"
   ]
  },
  {
   "cell_type": "markdown",
   "id": "ce88bea6",
   "metadata": {},
   "source": [
    "### Importing libraries"
   ]
  },
  {
   "cell_type": "code",
   "execution_count": 1,
   "id": "71c1cff3",
   "metadata": {},
   "outputs": [],
   "source": [
    "import torch\n",
    "import matplotlib.pyplot as plt\n",
    "import numpy as np"
   ]
  },
  {
   "cell_type": "markdown",
   "id": "b71947c9",
   "metadata": {},
   "source": [
    "### Creating data"
   ]
  },
  {
   "cell_type": "code",
   "execution_count": 29,
   "id": "eaac4842",
   "metadata": {},
   "outputs": [],
   "source": [
    "def generate_points(points_number, mean, std):\n",
    "    \"\"\"\n",
    "    Inputs:\n",
    "    - points_number = Amout of required 3D points\n",
    "    - mean = Mean for Gaussian distribution\n",
    "    - std = Standard desviation for Gaussian distribution\n",
    "    Output:\n",
    "    - X: Tensor with all 3D points generated\n",
    "    Description:\n",
    "    - Given an amount of points, a mean & a standard deviation\n",
    "    generates a tensor with randon 3D points\n",
    "    \n",
    "    X = [x1 ... xn], where xi belongs to R3\n",
    "    xi = [                      Xrand_i\n",
    "                                Yrand_i  \n",
    "          f(Xrand_i, Yrand_i) = 0.2*Xrand_i + Yrand_i + epsilon ]\n",
    "    epsilon = random[N(mean, std)] \n",
    "    \"\"\"\n",
    "    \n",
    "    #Creating Gaussians values (epsilon)\n",
    "    epsilon = torch.normal(mean, std, size=(1, points_number))\n",
    "    \n",
    "    #Creating random X,Y values\n",
    "    Xrand_Yrand = torch.rand(2, points_number)\n",
    "    \n",
    "    #Computing f(x, y)\n",
    "    f_x_y = 0.2*Xrand_Yrand[0, :] + Xrand_Yrand[1, :] + epsilon\n",
    "    \n",
    "    #Creating X\n",
    "    X = torch.cat((Xrand_Yrand, f_x_y), dim = 0)\n",
    "    \n",
    "    #Plotting points\n",
    "    # Creating figure\n",
    "    fig = plt.figure()\n",
    "    ax = plt.axes(projection = \"3d\")\n",
    "     # Creating plot\n",
    "    ax.scatter3D(X[0, :], X[1, :], X[2, :])\n",
    "    # show plot\n",
    "    plt.show()    \n",
    "    \n",
    "    #Returning data\n",
    "    return X"
   ]
  },
  {
   "cell_type": "markdown",
   "id": "46a0dd31",
   "metadata": {},
   "source": [
    "### Computing covariance matrix"
   ]
  },
  {
   "cell_type": "code",
   "execution_count": 30,
   "id": "c3d83a4e",
   "metadata": {},
   "outputs": [],
   "source": [
    "def cov_matrix(data):\n",
    "    \"\"\"\n",
    "    Inputs:\n",
    "    - data: Dataset which will have its\n",
    "    covariance matrix computed\n",
    "    Outputs:\n",
    "    - cov_matrix: Covariance matrix of the \n",
    "    given data\n",
    "    Description:\n",
    "    - Computes covariance matrix using\n",
    "    Pytorch\n",
    "    \"\"\"\n",
    "    \n",
    "    #Computing covariance matrix\n",
    "    cov_matrix = torch.cov(data)\n",
    "    \n",
    "    #Printing covariance matrix dimensions\n",
    "    print(\"Covariance matrix dimensions are: [{}, {}]\\n\".format(cov_matrix.shape[0], cov_matrix.shape[1]))\n",
    "    \n",
    "    #Returning covariance matrix\n",
    "    return cov_matrix"
   ]
  },
  {
   "cell_type": "markdown",
   "id": "93bb0682",
   "metadata": {},
   "source": [
    "### Computing eigenvectors & eigenvalues"
   ]
  },
  {
   "cell_type": "code",
   "execution_count": 31,
   "id": "1bfa1f52",
   "metadata": {},
   "outputs": [],
   "source": [
    "def eigenvectors_eigenvalues(cov_matrix):\n",
    "    \"\"\"\n",
    "    Inputs:\n",
    "    - cov_matrix: Dataset covariance matrix\n",
    "    Output:\n",
    "    - v: Eigenvalues\n",
    "    - w: Eigenvector\n",
    "    Description:\n",
    "    - Computes eigenvalues and eigenvectors\n",
    "    using numpy\n",
    "    \"\"\"\n",
    "    \n",
    "    #Computing eigenvalues and eigenvectors\n",
    "    d, w = np.linalg.eigh(cov_matrix)\n",
    "    \n",
    "    #Parsing into PyTorch tensors\n",
    "    d = torch.tensor(d)\n",
    "    w = torch.tensor(w)\n",
    "    \n",
    "    #Printing eigenvalues\n",
    "    print(\"The eigenvalues are: {}\\n\".format(d))\n",
    "    \n",
    "    #Printing eigenvectors\n",
    "    print(\"The eigenvectors are:\\n\")\n",
    "    print(\"w1: {}\\n\".format(w[0]))\n",
    "    print(\"w2: {}\\n\".format(w[1]))\n",
    "    print(\"w3: {}\\n\".format(w[2]))\n",
    "    \n",
    "    #Returning eigenvalues and eigenvector\n",
    "    return d, w"
   ]
  },
  {
   "cell_type": "markdown",
   "id": "78117329",
   "metadata": {},
   "source": [
    "### Creating new subspace"
   ]
  },
  {
   "cell_type": "code",
   "execution_count": 6,
   "id": "272f0909",
   "metadata": {},
   "outputs": [],
   "source": [
    "def creating_subspace(d, w):\n",
    "    \"\"\"\n",
    "    Inputs:\n",
    "    - d: Eigenvalues\n",
    "    - w: Eigenvectors\n",
    "    Outputs:\n",
    "    - V: New subspace created using the two highest\n",
    "    eigenvalues and their respective eigenvectors\n",
    "    Description:\n",
    "    - Sorts the eigenvalues in descending orders to \n",
    "    get its eigenvectors and creates a new subspace\n",
    "    \"\"\"\n",
    "     \n",
    "    #Sorting eigenvalues in descending order\n",
    "    sort_d, idx = torch.sort(d, descending = True)\n",
    "\n",
    "    #Grabing eigenvectors of the two highest eigenvalues\n",
    "    v1 = w[idx[0]]\n",
    "    v2 = w[idx[1]]\n",
    "    \n",
    "    #Creating subspace V\n",
    "    V = torch.stack((v1,v2), 1)\n",
    "    \n",
    "    #Printing V\n",
    "    print(\"Subspace V: \\n\")\n",
    "    print(V,\"\\n\")\n",
    "    \n",
    "    #Returning V\n",
    "    return V"
   ]
  },
  {
   "cell_type": "markdown",
   "id": "a87171ec",
   "metadata": {},
   "source": [
    "### Checking orthonormality"
   ]
  },
  {
   "cell_type": "code",
   "execution_count": 7,
   "id": "152d3905",
   "metadata": {},
   "outputs": [],
   "source": [
    "def check_orthonormality(V):\n",
    "    \"\"\"\n",
    "    Inputs:\n",
    "    - V: New subspace created using the two highest\n",
    "    eigenvalues and their respective eigenvectors\n",
    "    Outputs:\n",
    "    - None\n",
    "    Description:\n",
    "    - Computes dot product between subspace bases \n",
    "    as well as each vector norm\n",
    "    \"\"\"\n",
    "    print(\"Checking orthonormality \\n\")\n",
    "    \n",
    "    #Computing dot product\n",
    "    dot = torch.dot(V[:, 0], V[:, 1])\n",
    "\n",
    "    #Printing dot product\n",
    "    print(\"v1 ° v2 = {}\".format(dot))\n",
    "    \n",
    "    #Computing vectors norms\n",
    "    v1_norm = torch.linalg.vector_norm(V[:, 0], ord = 2)\n",
    "    v2_norm = torch.linalg.vector_norm(V[:, 1], ord = 2)\n",
    "    \n",
    "    #Printing L2 norms\n",
    "    print(\"v1 L2 norm = {}\".format(v1_norm))\n",
    "    print(\"v2 L2 norm = {}\".format(v2_norm))\n",
    "    print(\"\\n\")"
   ]
  },
  {
   "cell_type": "markdown",
   "id": "db3f39de",
   "metadata": {},
   "source": [
    "### Computing data mean and new matrix with its origin in the mean"
   ]
  },
  {
   "cell_type": "code",
   "execution_count": 32,
   "id": "6dc2ad62",
   "metadata": {},
   "outputs": [],
   "source": [
    "def matrix_mean(X):\n",
    "    \"\"\"\n",
    "    Inputs:\n",
    "    - X: Tensor with all 3D points generated\n",
    "    Outputs:\n",
    "    - X_mean_sustracted: New dataset centered with\n",
    "    the mean as its new origin\n",
    "    Description:\n",
    "    - \n",
    "    \"\"\"\n",
    "    \n",
    "    #Computing mean\n",
    "    mean = torch.mean(X, dim = 0)\n",
    "    \n",
    "    #Subtract the mean from X\n",
    "    X_mean_sustracted = X - mean\n",
    "    \n",
    "    #Printing new dataset\n",
    "    print(\"X - mean: \\n\")\n",
    "    print(X_mean_sustracted,\"\\n\")\n",
    "    \n",
    "    #Returning X_mean_sustracted\n",
    "    return X_mean_sustracted"
   ]
  },
  {
   "cell_type": "markdown",
   "id": "8533386c",
   "metadata": {},
   "source": [
    "### Main function"
   ]
  },
  {
   "cell_type": "code",
   "execution_count": 33,
   "id": "bdde53a7",
   "metadata": {},
   "outputs": [
    {
     "data": {
      "image/png": "[encoded data removed]",
      "text/plain": [
       "<Figure size 640x480 with 1 Axes>"
      ]
     },
     "metadata": {},
     "output_type": "display_data"
    },
    {
     "name": "stdout",
     "output_type": "stream",
     "text": [
      "Covariance matrix dimensions are: [3, 3]\n",
      "\n",
      "The eigenvalues are: tensor([0.0008, 0.0574, 0.1468])\n",
      "\n",
      "The eigenvectors are:\n",
      "\n",
      "w1: tensor([-0.1211, -0.8272, -0.5487])\n",
      "\n",
      "w2: tensor([-0.7068,  0.4600, -0.5374])\n",
      "\n",
      "w3: tensor([ 0.6970,  0.3228, -0.6403])\n",
      "\n",
      "Subspace V: \n",
      "\n",
      "tensor([[ 0.6970, -0.7068],\n",
      "        [ 0.3228,  0.4600],\n",
      "        [-0.6403, -0.5374]]) \n",
      "\n",
      "Checking orthonormality \n",
      "\n",
      "v1 ° v2 = 4.470348358154297e-08\n",
      "v1 L2 norm = 0.9999999403953552\n",
      "v2 L2 norm = 0.9999999403953552\n",
      "\n",
      "\n",
      "X - mean: \n",
      "\n",
      "tensor([[-0.0241, -0.1014,  0.0730,  0.1588, -0.2226,  0.1405, -0.2303,  0.2150,\n",
      "          0.1048,  0.4187, -0.0653,  0.1441, -0.2368,  0.3216,  0.3983,  0.0241,\n",
      "         -0.1261, -0.0944,  0.0392,  0.0989],\n",
      "        [-0.0871,  0.0175, -0.0573, -0.1800,  0.0640, -0.1374,  0.1210, -0.1574,\n",
      "         -0.1215, -0.2878, -0.0217, -0.1171,  0.0898, -0.2274, -0.2829, -0.0352,\n",
      "          0.0557, -0.0353, -0.0333, -0.0502],\n",
      "        [ 0.1112,  0.0838, -0.0157,  0.0211,  0.1586, -0.0031,  0.1093, -0.0577,\n",
      "          0.0167, -0.1309,  0.0870, -0.0270,  0.1469, -0.0942, -0.1153,  0.0111,\n",
      "          0.0704,  0.1297, -0.0060, -0.0487]]) \n",
      "\n"
     ]
    }
   ],
   "source": [
    "def main():\n",
    "    points_numer = 20\n",
    "    mean = 0\n",
    "    std = 0.05\n",
    "    X = generate_points(points_numer, mean, std)\n",
    "    Cov_X = cov_matrix(X)\n",
    "    D, W = eigenvectors_eigenvalues(Cov_X)\n",
    "    V = creating_subspace(D, W)\n",
    "    check_orthonormality(V)\n",
    "    X_mean_sustracted = matrix_mean(X)\n",
    "if __name__ == \"__main__\":\n",
    "    main()    "
   ]
  }
 ],
 "metadata": {
  "kernelspec": {
   "display_name": "Python [conda env:Aprendizaje_Automatico] *",
   "language": "python",
   "name": "conda-env-Aprendizaje_Automatico-py"
  },
  "language_info": {
   "codemirror_mode": {
    "name": "ipython",
    "version": 3
   },
   "file_extension": ".py",
   "mimetype": "text/x-python",
   "name": "python",
   "nbconvert_exporter": "python",
   "pygments_lexer": "ipython3",
   "version": "3.11.0"
  }
 },
 "nbformat": 4,
 "nbformat_minor": 5
}
